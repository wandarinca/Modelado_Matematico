{
 "cells": [
  {
   "cell_type": "markdown",
   "metadata": {
    "slideshow": {
     "slide_type": "slide"
    }
   },
   "source": [
    "<h1>Sistema de Ecuaciones Diferenciales para modelar Interoperabilidad en GNSS</h1>"
   ]
  },
  {
   "cell_type": "markdown",
   "metadata": {
    "slideshow": {
     "slide_type": "fragment"
    }
   },
   "source": [
    "Los sistemas de navegacion satelitales (GNSS) que se encuentran en operación y desarrollo como GPS, GLONASS, y Galileo necesitan operar en conjunto para dar mejor posicionamiento a los usuarios y un servicio con más continuidad. La interoperabilidad necesita ser evaluada por los ususarios. \n",
    "\n",
    "La relacion Costo-efectividad tiene un comportamiento similar a el modelo de comportamiento presa depredador de <a href = \"https://en.wikipedia.org/wiki/Competitive_Lotka%E2%80%93Volterra_equations\">Lotka-Volterra</a> competitivo. Por un lado se tiene la función de costo $C$ que tiene una tendencia a decrecer, con un limite inferior ya que los receptores son cada vez más baratos, a su vez el costo es proporcional a el desempeño $P$. El desempeño de un receptor tiende a mejorar con los años pues la tecnología avanza, también incrementa el desempeño y la calidad del receptor con el costo de este. \n",
    "\n",
    "<div>\n",
    "<img src = \"paul_weber.jpg\"  width=\"200\" height=\"200\" align=\"left\" alt = \"GPS Backpack\" hspace=\"50\">\n",
    "<img src = \"life-without-gps_pulse-gps-antenna.jpg\"  width=\"150\" height=\"150\" align=\"middle\" alt =\"GPS pequeño\"\n",
    "hspace=\"20\">\n",
    "</div>\n"
   ]
  },
  {
   "cell_type": "markdown",
   "metadata": {},
   "source": [
    "<h1>Librerías</h1>"
   ]
  },
  {
   "cell_type": "code",
   "execution_count": 1,
   "metadata": {
    "collapsed": true,
    "slideshow": {
     "slide_type": "subslide"
    }
   },
   "outputs": [],
   "source": [
    "from sympy import *\n",
    "import numpy as np\n",
    "import matplotlib.pyplot as plt\n",
    "from scipy import integrate\n",
    "%matplotlib inline"
   ]
  },
  {
   "cell_type": "markdown",
   "metadata": {
    "slideshow": {
     "slide_type": "slide"
    }
   },
   "source": [
    "<h1>Modelo</h1>"
   ]
  },
  {
   "cell_type": "markdown",
   "metadata": {
    "slideshow": {
     "slide_type": "fragment"
    }
   },
   "source": [
    "$\\frac{dP}{dt}= aP(1 - \\frac{P}{K_{1}}+bC)$\n",
    "\n",
    "$\\frac{dC}{dt}= fC(-1 - \\frac{C}{K_{2}}+cP)$\n",
    "\n",
    "$P$: Desempeño de un receptor GPS\n",
    "\n",
    "$C$: Costo de un receptor GPS\n",
    "\n",
    "$a,b,c,f$ son constantes positivas.\n",
    "\n",
    "$K_{1}$ y $K_{2}$ son los límites de las funciones de Desempeño y Costo.\n",
    "\n",
    "El sistema de ecuaciones diferenciales esta acoplado, es de primer orden y grado 2."
   ]
  },
  {
   "cell_type": "code",
   "execution_count": 2,
   "metadata": {
    "collapsed": true,
    "slideshow": {
     "slide_type": "subslide"
    }
   },
   "outputs": [],
   "source": [
    "init_printing(use_latex=True)\n",
    "t, a, b, f, c, K1, K2  = symbols(\"t, a, b, f, c, K_{1}, K_{2}\", positive= True)\n",
    "P, C = symbols(\"P C\", cls=Function, positive= True)"
   ]
  },
  {
   "cell_type": "markdown",
   "metadata": {
    "slideshow": {
     "slide_type": "slide"
    }
   },
   "source": [
    "<h1>Definir sistema de ecuaciones diferenciales </h1>"
   ]
  },
  {
   "cell_type": "markdown",
   "metadata": {
    "slideshow": {
     "slide_type": "subslide"
    }
   },
   "source": [
    "**1 ). Desempeño de los receptores GPS en el tiempo**\n",
    "\n",
    "- Proporcional al costo\n",
    "- En aumento con el paso de los años\n",
    "- Con un límite de crecimiento"
   ]
  },
  {
   "cell_type": "code",
   "execution_count": 5,
   "metadata": {
    "collapsed": false,
    "slideshow": {
     "slide_type": "fragment"
    }
   },
   "outputs": [
    {
     "name": "stdout",
     "output_type": "stream",
     "text": [
      "  ⎛              P(t)⎞     \n",
      "a⋅⎜b⋅C(t) + 1 - ─────⎟⋅P(t)\n",
      "  ⎝             K_{1}⎠     \n"
     ]
    }
   ],
   "source": [
    "dPdt = a*P(t)*(1-P(t)/K1+b*C(t))\n",
    "print(pretty(dPdt))"
   ]
  },
  {
   "cell_type": "code",
   "execution_count": 6,
   "metadata": {
    "collapsed": false,
    "slideshow": {
     "slide_type": "fragment"
    }
   },
   "outputs": [
    {
     "name": "stdout",
     "output_type": "stream",
     "text": [
      "d            ⎛              P(t)⎞     \n",
      "──(P(t)) = a⋅⎜b⋅C(t) + 1 - ─────⎟⋅P(t)\n",
      "dt           ⎝             K_{1}⎠     \n"
     ]
    }
   ],
   "source": [
    "diffeqP = Eq(P(t).diff(t) , dPdt)\n",
    "print (pretty(diffeqP))"
   ]
  },
  {
   "cell_type": "markdown",
   "metadata": {
    "slideshow": {
     "slide_type": "subslide"
    }
   },
   "source": [
    "**2). Costo de los receptores GPS en el tiempo**\n",
    "\n",
    "- El costo aumenta con el buen desempeño y calidad del receptor.\n",
    "- Sin embargo el costo es cada vez menor.\n",
    "- Con un límite de decrecimiento"
   ]
  },
  {
   "cell_type": "code",
   "execution_count": 7,
   "metadata": {
    "collapsed": true,
    "slideshow": {
     "slide_type": "fragment"
    }
   },
   "outputs": [],
   "source": [
    "dCdt = f*C(t)*(-1-C(t)/K2+c*P(t))"
   ]
  },
  {
   "cell_type": "code",
   "execution_count": 8,
   "metadata": {
    "collapsed": false,
    "slideshow": {
     "slide_type": "fragment"
    }
   },
   "outputs": [
    {
     "name": "stdout",
     "output_type": "stream",
     "text": [
      "  ⎛              C(t)⎞     \n",
      "f⋅⎜c⋅P(t) - 1 - ─────⎟⋅C(t)\n",
      "  ⎝             K_{2}⎠     \n"
     ]
    }
   ],
   "source": [
    "print(pretty(dCdt))"
   ]
  },
  {
   "cell_type": "code",
   "execution_count": 9,
   "metadata": {
    "collapsed": false,
    "slideshow": {
     "slide_type": "fragment"
    }
   },
   "outputs": [
    {
     "name": "stdout",
     "output_type": "stream",
     "text": [
      "d            ⎛              C(t)⎞     \n",
      "──(C(t)) = f⋅⎜c⋅P(t) - 1 - ─────⎟⋅C(t)\n",
      "dt           ⎝             K_{2}⎠     \n"
     ]
    }
   ],
   "source": [
    "diffeqC = Eq(C(t).diff(t) , dCdt)\n",
    "print (pretty(diffeqC))"
   ]
  },
  {
   "cell_type": "code",
   "execution_count": 10,
   "metadata": {
    "collapsed": false,
    "slideshow": {
     "slide_type": "skip"
    }
   },
   "outputs": [],
   "source": [
    "#ode.allhints"
   ]
  },
  {
   "cell_type": "markdown",
   "metadata": {
    "slideshow": {
     "slide_type": "slide"
    }
   },
   "source": [
    "<h1>Intentar resolver el sistema de forma analítica usando el solver de Sympy</h1>"
   ]
  },
  {
   "cell_type": "code",
   "execution_count": 11,
   "metadata": {
    "collapsed": false,
    "scrolled": true,
    "slideshow": {
     "slide_type": "fragment"
    }
   },
   "outputs": [
    {
     "ename": "TypeError",
     "evalue": "'NoneType' object has no attribute '__getitem__'",
     "output_type": "error",
     "traceback": [
      "\u001b[1;31m---------------------------------------------------------------------------\u001b[0m",
      "\u001b[1;31mTypeError\u001b[0m                                 Traceback (most recent call last)",
      "\u001b[1;32m<ipython-input-11-fe125f5d6e32>\u001b[0m in \u001b[0;36m<module>\u001b[1;34m()\u001b[0m\n\u001b[0;32m      1\u001b[0m \u001b[0meq\u001b[0m \u001b[1;33m=\u001b[0m \u001b[1;33m(\u001b[0m\u001b[0mEq\u001b[0m\u001b[1;33m(\u001b[0m\u001b[0mdiff\u001b[0m\u001b[1;33m(\u001b[0m\u001b[0mP\u001b[0m\u001b[1;33m(\u001b[0m\u001b[0mt\u001b[0m\u001b[1;33m)\u001b[0m\u001b[1;33m,\u001b[0m\u001b[0mt\u001b[0m\u001b[1;33m)\u001b[0m\u001b[1;33m,\u001b[0m \u001b[0mdPdt\u001b[0m\u001b[1;33m)\u001b[0m\u001b[1;33m,\u001b[0m \u001b[0mEq\u001b[0m\u001b[1;33m(\u001b[0m\u001b[0mdiff\u001b[0m\u001b[1;33m(\u001b[0m\u001b[0mC\u001b[0m\u001b[1;33m(\u001b[0m\u001b[0mt\u001b[0m\u001b[1;33m)\u001b[0m\u001b[1;33m,\u001b[0m\u001b[0mt\u001b[0m\u001b[1;33m)\u001b[0m\u001b[1;33m,\u001b[0m \u001b[0mdCdt\u001b[0m\u001b[1;33m)\u001b[0m\u001b[1;33m)\u001b[0m\u001b[1;33m\u001b[0m\u001b[0m\n\u001b[1;32m----> 2\u001b[1;33m \u001b[0msol_gral\u001b[0m \u001b[1;33m=\u001b[0m \u001b[0mdsolve\u001b[0m\u001b[1;33m(\u001b[0m\u001b[0meq\u001b[0m\u001b[1;33m,\u001b[0m\u001b[1;33m)\u001b[0m\u001b[1;33m\u001b[0m\u001b[0m\n\u001b[0m",
      "\u001b[1;32m/home/griduis/anaconda2/lib/python2.7/site-packages/sympy/solvers/ode.pyc\u001b[0m in \u001b[0;36mdsolve\u001b[1;34m(eq, func, hint, simplify, ics, xi, eta, x0, n, **kwargs)\u001b[0m\n\u001b[0;32m    577\u001b[0m     \"\"\"\n\u001b[0;32m    578\u001b[0m     \u001b[1;32mif\u001b[0m \u001b[0miterable\u001b[0m\u001b[1;33m(\u001b[0m\u001b[0meq\u001b[0m\u001b[1;33m)\u001b[0m\u001b[1;33m:\u001b[0m\u001b[1;33m\u001b[0m\u001b[0m\n\u001b[1;32m--> 579\u001b[1;33m         \u001b[0mmatch\u001b[0m \u001b[1;33m=\u001b[0m \u001b[0mclassify_sysode\u001b[0m\u001b[1;33m(\u001b[0m\u001b[0meq\u001b[0m\u001b[1;33m,\u001b[0m \u001b[0mfunc\u001b[0m\u001b[1;33m)\u001b[0m\u001b[1;33m\u001b[0m\u001b[0m\n\u001b[0m\u001b[0;32m    580\u001b[0m         \u001b[0meq\u001b[0m \u001b[1;33m=\u001b[0m \u001b[0mmatch\u001b[0m\u001b[1;33m[\u001b[0m\u001b[1;34m'eq'\u001b[0m\u001b[1;33m]\u001b[0m\u001b[1;33m\u001b[0m\u001b[0m\n\u001b[0;32m    581\u001b[0m         \u001b[0morder\u001b[0m \u001b[1;33m=\u001b[0m \u001b[0mmatch\u001b[0m\u001b[1;33m[\u001b[0m\u001b[1;34m'order'\u001b[0m\u001b[1;33m]\u001b[0m\u001b[1;33m\u001b[0m\u001b[0m\n",
      "\u001b[1;32m/home/griduis/anaconda2/lib/python2.7/site-packages/sympy/solvers/ode.pyc\u001b[0m in \u001b[0;36mclassify_sysode\u001b[1;34m(eq, funcs, **kwargs)\u001b[0m\n\u001b[0;32m   1466\u001b[0m             \u001b[1;32mif\u001b[0m \u001b[0mmatching_hints\u001b[0m\u001b[1;33m[\u001b[0m\u001b[1;34m'no_of_equation'\u001b[0m\u001b[1;33m]\u001b[0m \u001b[1;33m==\u001b[0m \u001b[1;36m2\u001b[0m\u001b[1;33m:\u001b[0m\u001b[1;33m\u001b[0m\u001b[0m\n\u001b[0;32m   1467\u001b[0m                 \u001b[1;32mif\u001b[0m \u001b[0morder_eq\u001b[0m \u001b[1;33m==\u001b[0m \u001b[1;36m1\u001b[0m\u001b[1;33m:\u001b[0m\u001b[1;33m\u001b[0m\u001b[0m\n\u001b[1;32m-> 1468\u001b[1;33m                     \u001b[0mtype_of_equation\u001b[0m \u001b[1;33m=\u001b[0m \u001b[0mcheck_nonlinear_2eq_order1\u001b[0m\u001b[1;33m(\u001b[0m\u001b[0meq\u001b[0m\u001b[1;33m,\u001b[0m \u001b[0mfuncs\u001b[0m\u001b[1;33m,\u001b[0m \u001b[0mfunc_coef\u001b[0m\u001b[1;33m)\u001b[0m\u001b[1;33m\u001b[0m\u001b[0m\n\u001b[0m\u001b[0;32m   1469\u001b[0m                 \u001b[1;32melse\u001b[0m\u001b[1;33m:\u001b[0m\u001b[1;33m\u001b[0m\u001b[0m\n\u001b[0;32m   1470\u001b[0m                     \u001b[0mtype_of_equation\u001b[0m \u001b[1;33m=\u001b[0m \u001b[0mNone\u001b[0m\u001b[1;33m\u001b[0m\u001b[0m\n",
      "\u001b[1;32m/home/griduis/anaconda2/lib/python2.7/site-packages/sympy/solvers/ode.pyc\u001b[0m in \u001b[0;36mcheck_nonlinear_2eq_order1\u001b[1;34m(eq, func, func_coef)\u001b[0m\n\u001b[0;32m   1760\u001b[0m     \u001b[0mr1\u001b[0m \u001b[1;33m=\u001b[0m \u001b[0meq\u001b[0m\u001b[1;33m[\u001b[0m\u001b[1;36m0\u001b[0m\u001b[1;33m]\u001b[0m\u001b[1;33m.\u001b[0m\u001b[0mmatch\u001b[0m\u001b[1;33m(\u001b[0m\u001b[0mdiff\u001b[0m\u001b[1;33m(\u001b[0m\u001b[0mx\u001b[0m\u001b[1;33m(\u001b[0m\u001b[0mt\u001b[0m\u001b[1;33m)\u001b[0m\u001b[1;33m,\u001b[0m\u001b[0mt\u001b[0m\u001b[1;33m)\u001b[0m \u001b[1;33m-\u001b[0m \u001b[0mf\u001b[0m\u001b[1;33m)\u001b[0m\u001b[1;33m\u001b[0m\u001b[0m\n\u001b[0;32m   1761\u001b[0m     \u001b[0mr2\u001b[0m \u001b[1;33m=\u001b[0m \u001b[0meq\u001b[0m\u001b[1;33m[\u001b[0m\u001b[1;36m1\u001b[0m\u001b[1;33m]\u001b[0m\u001b[1;33m.\u001b[0m\u001b[0mmatch\u001b[0m\u001b[1;33m(\u001b[0m\u001b[0mdiff\u001b[0m\u001b[1;33m(\u001b[0m\u001b[0my\u001b[0m\u001b[1;33m(\u001b[0m\u001b[0mt\u001b[0m\u001b[1;33m)\u001b[0m\u001b[1;33m,\u001b[0m\u001b[0mt\u001b[0m\u001b[1;33m)\u001b[0m \u001b[1;33m-\u001b[0m \u001b[0mg\u001b[0m\u001b[1;33m)\u001b[0m\u001b[1;33m\u001b[0m\u001b[0m\n\u001b[1;32m-> 1762\u001b[1;33m     \u001b[0mnum\u001b[0m\u001b[1;33m,\u001b[0m \u001b[0mdenum\u001b[0m \u001b[1;33m=\u001b[0m \u001b[1;33m(\u001b[0m\u001b[1;33m(\u001b[0m\u001b[0mr1\u001b[0m\u001b[1;33m[\u001b[0m\u001b[0mf\u001b[0m\u001b[1;33m]\u001b[0m\u001b[1;33m.\u001b[0m\u001b[0msubs\u001b[0m\u001b[1;33m(\u001b[0m\u001b[0mx\u001b[0m\u001b[1;33m(\u001b[0m\u001b[0mt\u001b[0m\u001b[1;33m)\u001b[0m\u001b[1;33m,\u001b[0m\u001b[0mu\u001b[0m\u001b[1;33m)\u001b[0m\u001b[1;33m.\u001b[0m\u001b[0msubs\u001b[0m\u001b[1;33m(\u001b[0m\u001b[0my\u001b[0m\u001b[1;33m(\u001b[0m\u001b[0mt\u001b[0m\u001b[1;33m)\u001b[0m\u001b[1;33m,\u001b[0m\u001b[0mv\u001b[0m\u001b[1;33m)\u001b[0m\u001b[1;33m)\u001b[0m\u001b[1;33m/\u001b[0m\u001b[1;33m(\u001b[0m\u001b[0mr2\u001b[0m\u001b[1;33m[\u001b[0m\u001b[0mg\u001b[0m\u001b[1;33m]\u001b[0m\u001b[1;33m.\u001b[0m\u001b[0msubs\u001b[0m\u001b[1;33m(\u001b[0m\u001b[0mx\u001b[0m\u001b[1;33m(\u001b[0m\u001b[0mt\u001b[0m\u001b[1;33m)\u001b[0m\u001b[1;33m,\u001b[0m\u001b[0mu\u001b[0m\u001b[1;33m)\u001b[0m\u001b[1;33m.\u001b[0m\u001b[0msubs\u001b[0m\u001b[1;33m(\u001b[0m\u001b[0my\u001b[0m\u001b[1;33m(\u001b[0m\u001b[0mt\u001b[0m\u001b[1;33m)\u001b[0m\u001b[1;33m,\u001b[0m\u001b[0mv\u001b[0m\u001b[1;33m)\u001b[0m\u001b[1;33m)\u001b[0m\u001b[1;33m)\u001b[0m\u001b[1;33m.\u001b[0m\u001b[0mas_numer_denom\u001b[0m\u001b[1;33m(\u001b[0m\u001b[1;33m)\u001b[0m\u001b[1;33m\u001b[0m\u001b[0m\n\u001b[0m\u001b[0;32m   1763\u001b[0m     \u001b[0mR1\u001b[0m \u001b[1;33m=\u001b[0m \u001b[0mnum\u001b[0m\u001b[1;33m.\u001b[0m\u001b[0mmatch\u001b[0m\u001b[1;33m(\u001b[0m\u001b[0mf1\u001b[0m\u001b[1;33m*\u001b[0m\u001b[0mg1\u001b[0m\u001b[1;33m)\u001b[0m\u001b[1;33m\u001b[0m\u001b[0m\n\u001b[0;32m   1764\u001b[0m     \u001b[0mR2\u001b[0m \u001b[1;33m=\u001b[0m \u001b[0mdenum\u001b[0m\u001b[1;33m.\u001b[0m\u001b[0mmatch\u001b[0m\u001b[1;33m(\u001b[0m\u001b[0mf2\u001b[0m\u001b[1;33m*\u001b[0m\u001b[0mg2\u001b[0m\u001b[1;33m)\u001b[0m\u001b[1;33m\u001b[0m\u001b[0m\n",
      "\u001b[1;31mTypeError\u001b[0m: 'NoneType' object has no attribute '__getitem__'"
     ]
    }
   ],
   "source": [
    "eq = (Eq(diff(P(t),t), dPdt), Eq(diff(C(t),t), dCdt))\n",
    "sol_gral = dsolve(eq,)\n"
   ]
  },
  {
   "cell_type": "markdown",
   "metadata": {
    "slideshow": {
     "slide_type": "fragment"
    }
   },
   "source": [
    "Sympy en el error muestra que falla solucionando el sistema porque no lo puede clasisficar en los tipos de ODE presentes en la librería. Reemplazando las constantes por las encontradas en [1]"
   ]
  },
  {
   "cell_type": "markdown",
   "metadata": {
    "slideshow": {
     "slide_type": "slide"
    }
   },
   "source": [
    "# Solucionar cada ecuación por separado para hallar puntos de equilibrio"
   ]
  },
  {
   "cell_type": "code",
   "execution_count": 11,
   "metadata": {
    "collapsed": false,
    "slideshow": {
     "slide_type": "fragment"
    }
   },
   "outputs": [
    {
     "name": "stdout",
     "output_type": "stream",
     "text": [
      "Ecuacion de Performance:  a*(b*C(t) + 1 - P(t)/K_{1})*P(t) == 0\n",
      "Ecuacion de Costo:  f*(c*P(t) - 1 - C(t)/K_{2})*C(t) == 0\n"
     ]
    }
   ],
   "source": [
    "#igualar a 0\n",
    "EqP = Eq(dPdt,0)\n",
    "EqC = Eq(dCdt,0)\n",
    "\n",
    "print \"Ecuacion de Performance: \", EqP\n",
    "print \"Ecuacion de Costo: \", EqC"
   ]
  },
  {
   "cell_type": "code",
   "execution_count": 12,
   "metadata": {
    "collapsed": false,
    "slideshow": {
     "slide_type": "fragment"
    }
   },
   "outputs": [
    {
     "name": "stdout",
     "output_type": "stream",
     "text": [
      "Puntos de equilibrio en desempeño:  [0, K_{1}*(b*C(t) + 1)]\n",
      "Puntos de equilibrio en costo:  [0, K_{2}*(c*P(t) - 1)]\n"
     ]
    }
   ],
   "source": [
    "gral_P = solve(EqP,P(t))\n",
    "gral_C = solve(EqC,C(t))\n",
    "\n",
    "print \"Puntos de equilibrio en desempeño: \",gral_P\n",
    "print \"Puntos de equilibrio en costo: \",gral_C\n"
   ]
  },
  {
   "cell_type": "markdown",
   "metadata": {
    "slideshow": {
     "slide_type": "fragment"
    }
   },
   "source": [
    "En las soluciones de P y C se encuentran dependencias, como se esperaba. Se hace un sistema de equaciones lineales usando los puntos de equilibrio y resolviendo para P y C. Resolvemos la ecuacion lineal para saber los puntos de equilibrio."
   ]
  },
  {
   "cell_type": "markdown",
   "metadata": {
    "slideshow": {
     "slide_type": "slide"
    }
   },
   "source": [
    "<h1>Resolver</h1>"
   ]
  },
  {
   "cell_type": "code",
   "execution_count": 13,
   "metadata": {
    "collapsed": false,
    "slideshow": {
     "slide_type": "fragment"
    }
   },
   "outputs": [],
   "source": [
    "sys_P = Eq(K1-P(t)+(b*C(t)*K1),0)\n",
    "sys_C = Eq(-K2-C(t)+(c*P(t)*K2),0)"
   ]
  },
  {
   "cell_type": "code",
   "execution_count": 14,
   "metadata": {
    "collapsed": false,
    "slideshow": {
     "slide_type": "fragment"
    }
   },
   "outputs": [
    {
     "name": "stdout",
     "output_type": "stream",
     "text": [
      "{C(t): -K_{2}*(K_{1}*c - 1)/(K_{1}*K_{2}*b*c - 1), P(t): K_{1}*(K_{2}*b - 1)/(K_{1}*K_{2}*b*c - 1)}\n"
     ]
    }
   ],
   "source": [
    "gral_sys = solve( (sys_P, sys_C), P(t), C(t) )\n",
    "print gral_sys"
   ]
  },
  {
   "cell_type": "code",
   "execution_count": 15,
   "metadata": {
    "collapsed": false,
    "slideshow": {
     "slide_type": "subslide"
    }
   },
   "outputs": [
    {
     "name": "stdout",
     "output_type": "stream",
     "text": [
      "Equilibrio C:  -K_{2}*(K_{1}*c - 1)/(K_{1}*K_{2}*b*c - 1)\n",
      "Equilibrio P:  K_{1}*(K_{2}*b - 1)/(K_{1}*K_{2}*b*c - 1)\n"
     ]
    }
   ],
   "source": [
    "print  \"Equilibrio C: \", gral_sys[gral_sys.keys()[0]]\n",
    "print  \"Equilibrio P: \",gral_sys[gral_sys.keys()[1]]"
   ]
  },
  {
   "cell_type": "markdown",
   "metadata": {
    "slideshow": {
     "slide_type": "slide"
    }
   },
   "source": [
    "<h1>Solución numérica</h1>\n",
    "\n",
    "Asumiremos que k1 = 3.5, k2 = 1.1, b = 0.12 y c= 0.18. Basados en [1]"
   ]
  },
  {
   "cell_type": "code",
   "execution_count": 16,
   "metadata": {
    "collapsed": false,
    "slideshow": {
     "slide_type": "fragment"
    }
   },
   "outputs": [],
   "source": [
    "def Int_P_C(N, t, r1,r2, K):\n",
    "    \"\"\"Integrar modelo GNSS Costo-Efectividad\"\"\"\n",
    "    P,C = N\n",
    "    a,f = r1\n",
    "    b,c = r2\n",
    "    K1,K2 = K\n",
    "    return (a*P*(1-P/K1+b*C),\n",
    "           f*C*(-1-C/K2+c*P))"
   ]
  },
  {
   "cell_type": "code",
   "execution_count": 91,
   "metadata": {
    "collapsed": true,
    "slideshow": {
     "slide_type": "subslide"
    }
   },
   "outputs": [],
   "source": [
    "#valor inicial de las funciones de Performance  y Costo\n",
    "\n",
    "N = [1, 3] \n",
    "\n",
    "K = [3.5, 1.1] # limite del desempeño, limite del costo\n",
    "r1 = [.1 ,.1] # a y f\n",
    "r2 = [ .12,.18] # b y c\n",
    "\n",
    "tmax = 20 # 20 años\n",
    "t = range(0, tmax + 1)\n",
    "\n",
    "Nt = integrate.odeint( Int_P_C, N, t, args = (r1,r2,K) )\n",
    "# Done!"
   ]
  },
  {
   "cell_type": "code",
   "execution_count": 92,
   "metadata": {
    "collapsed": false,
    "slideshow": {
     "slide_type": "skip"
    }
   },
   "outputs": [
    {
     "data": {
      "text/plain": [
       "[C(t), P(t)]"
      ]
     },
     "execution_count": 92,
     "metadata": {},
     "output_type": "execute_result"
    }
   ],
   "source": [
    "gral_sys.keys()"
   ]
  },
  {
   "cell_type": "markdown",
   "metadata": {
    "slideshow": {
     "slide_type": "slide"
    }
   },
   "source": [
    "<h1>Graficar solución particular </h1>"
   ]
  },
  {
   "cell_type": "code",
   "execution_count": 93,
   "metadata": {
    "collapsed": false,
    "slideshow": {
     "slide_type": "subslide"
    }
   },
   "outputs": [],
   "source": [
    "P_Equil = gral_sys[gral_sys.keys()[1]].subs( [ (K1,K[0]), (K2, K[1]), (a,r1[0]), (b, r2[0]),(c, r2[1]) ], simultaneous=True)\n",
    "C_Equil = gral_sys[gral_sys.keys()[0]].subs( [ (K1,K[0]), (K2, K[1]), (f,r1[1]),(b, r2[0]), (c, r2[1]) ], simultaneous=True)\n",
    "\n",
    "plotequils = (P_Equil, C_Equil)"
   ]
  },
  {
   "cell_type": "code",
   "execution_count": 94,
   "metadata": {
    "collapsed": false,
    "slideshow": {
     "slide_type": "subslide"
    }
   },
   "outputs": [
    {
     "data": {
      "text/plain": [
       "<matplotlib.lines.Line2D at 0x7f598c423d50>"
      ]
     },
     "execution_count": 94,
     "metadata": {},
     "output_type": "execute_result"
    },
    {
     "data": {
      "image/png": "[encoded data removed]",
      "text/plain": [
       "<matplotlib.figure.Figure at 0x7f598c5e5d50>"
      ]
     },
     "metadata": {},
     "output_type": "display_data"
    }
   ],
   "source": [
    "# Plot the ode results\n",
    "plt.plot(t, Nt, '--o')\n",
    "plt.xlabel('time (t)')\n",
    "plt.ylabel('Cost/Performance')\n",
    "plt.legend(['P', 'C'], loc='lower right')\n",
    "plt.title('GPS Cost-Effective relation')\n",
    "\n",
    "plt.axhline(y=plotequils[0], linewidth=2, color='red', ls='--')\n",
    "plt.axhline(y=plotequils[1], linewidth=2, color='red', ls='--')"
   ]
  },
  {
   "cell_type": "markdown",
   "metadata": {
    "slideshow": {
     "slide_type": "fragment"
    }
   },
   "source": [
    "Efectivamente se ve una disminución fuerte en el costo mientras que el desempeño aumenta con una asíntota superior, lo cual corresponde con la realidad."
   ]
  },
  {
   "cell_type": "markdown",
   "metadata": {
    "collapsed": true,
    "slideshow": {
     "slide_type": "slide"
    }
   },
   "source": [
    "**Bibliography**\n",
    "\n",
    "\n",
    "- [1] Differential equation Dinamical System based assestment model in GNSS interoperabilidad. (2011) Han tao, \n",
    "\n",
    "- Como integrar EDO usando sympy http://docs.scipy.org/doc/scipy/reference/generated/scipy.integrate.odeint.html\n",
    "\n",
    "- Precios de algunos GPS\n",
    "https://inertialsense.com/attending-auvsis-exponential-csv-logger-ustar-grant/\n",
    "\n",
    "- Resolviendo Lotka Volterra usando Python + R https://climateecology.wordpress.com/tag/sympy/\n",
    "https://inertialsense.com/download/uins-2-datasheet/?wpdmdl=204\n",
    "\n",
    "- Ecuaciones diferenciales usando Python http://relopezbriega.github.io/blog/2016/01/10/ecuaciones-diferenciales-con-python/\n",
    "\n",
    "- http://e-spacio.uned.es/fez/eserv/bibliuned:masterMatavanz-Acano/Documento.pdf \n"
   ]
  }
 ],
 "metadata": {
  "celltoolbar": "Slideshow",
  "kernelspec": {
   "display_name": "Python 2",
   "language": "python",
   "name": "python2"
  },
  "language_info": {
   "codemirror_mode": {
    "name": "ipython",
    "version": 2
   },
   "file_extension": ".py",
   "mimetype": "text/x-python",
   "name": "python",
   "nbconvert_exporter": "python",
   "pygments_lexer": "ipython2",
   "version": "2.7.11"
  }
 },
 "nbformat": 4,
 "nbformat_minor": 0
}
